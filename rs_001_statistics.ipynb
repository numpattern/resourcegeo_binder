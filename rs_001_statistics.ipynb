{
 "cells": [
  {
   "cell_type": "markdown",
   "metadata": {},
   "source": [
    "**Examples using resourcegeo Package**\n",
    "\n",
    "Created by:    H.V.S  \n",
    "Last Modified: December 2023\n",
    "\n",
    "\n",
    "- Documentation can be found [here](https://orespace.net/resourcegeo_doc/?_gl=1*1gfqedq*_ga*MzUyODY4MzY5LjE3MDExMzU3MzQ.*_ga_ZEEK2PJYHW*MTcwMzYwODYwMC40LjEuMTcwMzYwODY1OS4xLjAuMA..)\n",
    "- Run this notebook online at [Notebook](https://mybinder.org/v2/gh/numpattern/resourcegeo_binder/main?labpath=rs_001.ipynb)"
   ]
  },
  {
   "cell_type": "code",
   "execution_count": null,
   "metadata": {
    "vscode": {
     "languageId": "plaintext"
    }
   },
   "outputs": [],
   "source": []
  },
  {
   "cell_type": "code",
   "execution_count": null,
   "metadata": {
    "vscode": {
     "languageId": "plaintext"
    }
   },
   "outputs": [],
   "source": []
  }
 ],
 "metadata": {
  "language_info": {
   "name": "python"
  }
 },
 "nbformat": 4,
 "nbformat_minor": 2
}
