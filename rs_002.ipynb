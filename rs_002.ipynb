{
 "cells": [
  {
   "cell_type": "markdown",
   "metadata": {},
   "source": [
    "**Examples using resourcegeo Package**\n",
    "\n",
    "Created by:    H.V.S  \n",
    "Last Modified: December 2023\n",
    "\n",
    "\n",
    "Documentation can be found [here](https://orespace.net/resourcegeo_doc/?_gl=1*1gfqedq*_ga*MzUyODY4MzY5LjE3MDExMzU3MzQ.*_ga_ZEEK2PJYHW*MTcwMzYwODYwMC40LjEuMTcwMzYwODY1OS4xLjAuMA..)"
   ]
  },
  {
   "cell_type": "code",
   "execution_count": null,
   "metadata": {},
   "outputs": [],
   "source": [
    "import resourcegeo as rs\n",
    "df = rs.BaseData('assay_geo').data\n",
    "df2 = df.loc[df['UNIT'].isin([f'{i}' for i in range(1,9)]  + ['OVB'])].copy()\n",
    "df3 = df2.copy()\n",
    "df3['CUpc'] = df3['CUpc'] +0.1\n",
    "df4 = df2.copy()\n",
    "df4['CUpc'] = df3['CUpc'] +0.2\n",
    "dfs = [df2,df3,df4]\n",
    "rs.boxplot_by_category_sensitivity(dfs,'CUpc','UNIT',figsize=(14,4))"
   ]
  }
 ],
 "metadata": {
  "kernelspec": {
   "display_name": "P377D",
   "language": "python",
   "name": "python3"
  },
  "language_info": {
   "name": "python",
   "version": "3.7.7"
  }
 },
 "nbformat": 4,
 "nbformat_minor": 2
}
