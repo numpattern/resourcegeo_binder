{
 "cells": [
  {
   "cell_type": "markdown",
   "metadata": {},
   "source": [
    "**Report a block model**"
   ]
  },
  {
   "cell_type": "code",
   "execution_count": 2,
   "metadata": {},
   "outputs": [
    {
     "data": {
      "text/html": [
       "<div>\n",
       "<style scoped>\n",
       "    .dataframe tbody tr th:only-of-type {\n",
       "        vertical-align: middle;\n",
       "    }\n",
       "\n",
       "    .dataframe tbody tr th {\n",
       "        vertical-align: top;\n",
       "    }\n",
       "\n",
       "    .dataframe thead th {\n",
       "        text-align: right;\n",
       "    }\n",
       "</style>\n",
       "<table border=\"1\" class=\"dataframe\">\n",
       "  <thead>\n",
       "    <tr style=\"text-align: right;\">\n",
       "      <th></th>\n",
       "      <th>volume</th>\n",
       "      <th>mass</th>\n",
       "      <th>grade1_cog10.000</th>\n",
       "      <th>mined</th>\n",
       "      <th>otype</th>\n",
       "      <th>classification</th>\n",
       "    </tr>\n",
       "  </thead>\n",
       "  <tbody>\n",
       "    <tr>\n",
       "      <th>0</th>\n",
       "      <td>242187.5</td>\n",
       "      <td>6.226887e+05</td>\n",
       "      <td>12.600368</td>\n",
       "      <td>['mined']</td>\n",
       "      <td>['Oxide']</td>\n",
       "      <td>[1, 2]</td>\n",
       "    </tr>\n",
       "    <tr>\n",
       "      <th>1</th>\n",
       "      <td>276562.5</td>\n",
       "      <td>6.912565e+05</td>\n",
       "      <td>12.060908</td>\n",
       "      <td>['mined']</td>\n",
       "      <td>['Sulfide']</td>\n",
       "      <td>[1, 2]</td>\n",
       "    </tr>\n",
       "    <tr>\n",
       "      <th>2</th>\n",
       "      <td>454687.5</td>\n",
       "      <td>1.179607e+06</td>\n",
       "      <td>12.433651</td>\n",
       "      <td>['mined', 'unmined']</td>\n",
       "      <td>['Oxide']</td>\n",
       "      <td>[1, 2]</td>\n",
       "    </tr>\n",
       "    <tr>\n",
       "      <th>3</th>\n",
       "      <td>462500.0</td>\n",
       "      <td>1.167224e+06</td>\n",
       "      <td>12.062587</td>\n",
       "      <td>['mined', 'unmined']</td>\n",
       "      <td>['Sulfide']</td>\n",
       "      <td>[1, 2]</td>\n",
       "    </tr>\n",
       "  </tbody>\n",
       "</table>\n",
       "</div>"
      ],
      "text/plain": [
       "     volume          mass  grade1_cog10.000                 mined  \\\n",
       "0  242187.5  6.226887e+05         12.600368             ['mined']   \n",
       "1  276562.5  6.912565e+05         12.060908             ['mined']   \n",
       "2  454687.5  1.179607e+06         12.433651  ['mined', 'unmined']   \n",
       "3  462500.0  1.167224e+06         12.062587  ['mined', 'unmined']   \n",
       "\n",
       "         otype classification  \n",
       "0    ['Oxide']         [1, 2]  \n",
       "1  ['Sulfide']         [1, 2]  \n",
       "2    ['Oxide']         [1, 2]  \n",
       "3  ['Sulfide']         [1, 2]  "
      ]
     },
     "execution_count": 2,
     "metadata": {},
     "output_type": "execute_result"
    }
   ],
   "source": [
    "import resourcegeo as rs\n",
    "bm  = rs.BaseData('bm').data\n",
    "model = rs.BlockModel(bm,dx='dx',dy='dy',dz='dz')\n",
    "\n",
    "grades = {'grade1':{'cutoff':10}}\n",
    "mined_out = {'mined':[['mined'], ['mined','unmined']]}\n",
    "otype_code = {'otype':[['Oxide'],['Sulfide']]}\n",
    "classif = {'classification':[[1,2]]}\n",
    "\n",
    "model.report(vars=grades,density_col='density',mined_out=mined_out,\n",
    "                        classif_code=classif, otype_code=otype_code)"
   ]
  }
 ],
 "metadata": {
  "kernelspec": {
   "display_name": "test",
   "language": "python",
   "name": "python3"
  },
  "language_info": {
   "codemirror_mode": {
    "name": "ipython",
    "version": 3
   },
   "file_extension": ".py",
   "mimetype": "text/x-python",
   "name": "python",
   "nbconvert_exporter": "python",
   "pygments_lexer": "ipython3",
   "version": "3.7.7"
  }
 },
 "nbformat": 4,
 "nbformat_minor": 2
}
