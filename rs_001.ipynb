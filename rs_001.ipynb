{
 "cells": [
  {
   "cell_type": "markdown",
   "metadata": {},
   "source": [
    "**Examples using resourcegeo Package**\n",
    "\n",
    "Created by:    H.V.S  \n",
    "Last Modified: December 2023\n",
    "\n",
    "\n",
    "Documentation can be found [here](https://orespace.net/resourcegeo_doc/?_gl=1*1gfqedq*_ga*MzUyODY4MzY5LjE3MDExMzU3MzQ.*_ga_ZEEK2PJYHW*MTcwMzYwODYwMC40LjEuMTcwMzYwODY1OS4xLjAuMA..)"
   ]
  },
  {
   "cell_type": "code",
   "execution_count": 2,
   "metadata": {},
   "outputs": [],
   "source": [
    "import resourcegeo"
   ]
  },
  {
   "cell_type": "code",
   "execution_count": null,
   "metadata": {},
   "outputs": [],
   "source": [
    "import resourcegeo as rs\n",
    "df = rs.BaseData('assay_geo').data\n",
    "_ = rs.boxplot_by_category(data = df,var = 'CUpc',catcol = 'UNIT',\n",
    "        tmin=0,markersize_mean=3,markersize_flier=0.1,widths=0.5,\n",
    "        ylim=(0,2),figsize=(10,6),stats=False,use_all=False,ylabel='CUpc')"
   ]
  }
 ],
 "metadata": {
  "kernelspec": {
   "display_name": "P377D",
   "language": "python",
   "name": "python3"
  },
  "language_info": {
   "codemirror_mode": {
    "name": "ipython",
    "version": 3
   },
   "file_extension": ".py",
   "mimetype": "text/x-python",
   "name": "python",
   "nbconvert_exporter": "python",
   "pygments_lexer": "ipython3",
   "version": "3.7.7"
  }
 },
 "nbformat": 4,
 "nbformat_minor": 2
}
