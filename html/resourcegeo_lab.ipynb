{
 "cells": [
  {
   "cell_type": "markdown",
   "metadata": {},
   "source": [
    "### **Resourcegeo - Example Notebooks**\n",
    "___\n",
    "\n",
    "Resourcegeo is a Python package to perform basic data analysis and to assist resource geologists. The documentation can be found [here](https://orespace.net/resourcegeo_doc/?_gl=1*1gfqedq*_ga*MzUyODY4MzY5LjE3MDExMzU3MzQ.*_ga_ZEEK2PJYHW*MTcwMzYwODYwMC40LjEuMTcwMzYwODY1OS4xLjAuMA..).  \n",
    "\n",
    "Run all notebooks by clicking [here](https://mybinder.org/v2/gh/numpattern/resourcegeo_binder/main?)\n",
    "\n",
    "Click one the following to run a single notebook:  \n",
    "\n",
    "1.  [ Statistics](https://mybinder.org/v2/gh/numpattern/resourcegeo_binder/main?labpath=rs_001_statistics.ipynb)\n",
    "2.  [ Drilling types history](https://mybinder.org/v2/gh/numpattern/resourcegeo_binder/main?labpath=rs_002_drilling_history.ipynb)\n",
    "3.  [ Boxplot statistics](https://mybinder.org/v2/gh/numpattern/resourcegeo_binder/main?labpath=rs_003_boxplot.ipynb)\n",
    "4.  [ Probability plot](https://mybinder.org/v2/gh/numpattern/resourcegeo_binder/main?labpath=rs_004_probability_plot.ipynb)\n",
    "5.  [ Deviation plot](https://mybinder.org/v2/gh/numpattern/resourcegeo_binder/main?labpath=rs_005_deviation_plot.ipynb)\n",
    "6.  [ Capping sensitivity](https://mybinder.org/v2/gh/numpattern/resourcegeo_binder/main?labpath=rs_006_capping_sensitivity.ipynb)\n",
    "7.  [ Grade tonnage curves](https://mybinder.org/v2/gh/numpattern/resourcegeo_binder/main?labpath=rs_007_grade_tonnage.ipynb)\n",
    "8.  [ Model sensitivity](https://mybinder.org/v2/gh/numpattern/resourcegeo_binder/main?labpath=rs_008_models_sensitivity.ipynb)\n",
    "9.  [ QQ plot](https://mybinder.org/v2/gh/numpattern/resourcegeo_binder/main?labpath=rs_009_qq_plot.ipynb)\n",
    "10. [ Report block model](https://mybinder.org/v2/gh/numpattern/resourcegeo_binder/main?labpath=rs_010_blockmodel_report.ipynb)\n",
    "\n",
    "\n",
    "\n",
    "Harold Velasquez S.  \n",
    "Resource Geologist  \n",
    "<img src=\"srk.PNG\" alt=\"drawing\" width=\"200\"/>"
   ]
  }
 ],
 "metadata": {
  "language_info": {
   "name": "python"
  }
 },
 "nbformat": 4,
 "nbformat_minor": 2
}
